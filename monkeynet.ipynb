{
 "cells": [
  {
   "cell_type": "markdown",
   "id": "42a65775-d45d-4f25-b247-9b9d6bd3f855",
   "metadata": {
    "tags": []
   },
   "source": [
    "## Monkeynet: Order of operations:\n",
    "- Create Layers\n",
    "- Create Network from Layers\n",
    "- Create Loss\n",
    "- Create gradients\n",
    "- Create a crappy backprop\n",
    "- Create a good backprop\n",
    "- Create a data loader\n"
   ]
  },
  {
   "cell_type": "markdown",
   "id": "018e2c17-2c3e-42e0-b299-94958a69f536",
   "metadata": {},
   "source": [
    "### Fooling around with the notebook. I typically experiment on a notebook before switching to code files\n",
    "### I do not recommend using this. Although it might be easier to understand for some..."
   ]
  },
  {
   "cell_type": "code",
   "execution_count": 1,
   "id": "dd12218f-0b4e-4181-b76f-0335cae7a751",
   "metadata": {},
   "outputs": [],
   "source": [
    "import numpy as np\n",
    "import random\n",
    "from numpy import ndarray as Tensor\n",
    "from typing import Callable, Sequence, Iterator, List, Tuple"
   ]
  },
  {
   "cell_type": "code",
   "execution_count": null,
   "id": "8833e869-4053-4f4a-9592-c25517ac1248",
   "metadata": {},
   "outputs": [],
   "source": []
  },
  {
   "cell_type": "code",
   "execution_count": 24,
   "id": "cd7c7b65-d660-49de-a66e-ead315ebcf8c",
   "metadata": {},
   "outputs": [],
   "source": [
    "class Layer:\n",
    "    \n",
    "    def __init__(self)->None:\n",
    "        pass\n",
    "    \n",
    "    def feedforward(self, inputs):\n",
    "        raise NotImplementedError\n",
    "    \n",
    "    def backprop(self, inputs, outputs):\n",
    "        return NotImplementedError"
   ]
  },
  {
   "cell_type": "code",
   "execution_count": 25,
   "id": "dfcae665-0f2e-4e24-90e6-d6024510c5ca",
   "metadata": {},
   "outputs": [],
   "source": [
    "class FullyConnected(Layer):\n",
    "    def __init__(self, input_size, output_size)->None:\n",
    "        self.input_size = input_size\n",
    "        self.output_size = output_size\n",
    "        \n",
    "        self.weights = np.random.randn(self.output_size, self.input_size)\n",
    "        self.biases = np.random.randn(self.output_size, 1)\n",
    "        \n",
    "        self.grad_w = np.zeros(self.weights.shape)\n",
    "        self.grad_b = np.zeros(self.biases.shape)\n",
    "        \n",
    "        self.grad_ws = []\n",
    "        self.grad_bs = []\n",
    "        \n",
    "    def activate(self, inputs: Tensor)->Tensor:\n",
    "        \n",
    "        self.z = self.weights @ inputs + self.biases\n",
    "        self.activation = self.sigmoid(self.z)\n",
    "        return self.activation\n",
    "    \n",
    "    \n",
    "    def sigmoid(self, z: Tensor) -> Tensor:\n",
    "        return 1/(1 + (np.exp(-z)))\n",
    "    \n",
    "    def sigmoid_deriv(self, z: Tensor) -> Tensor:\n",
    "        return self.sigmoid(z) * (1 - self.sigmoid(z))"
   ]
  },
  {
   "cell_type": "code",
   "execution_count": 26,
   "id": "b25fca99-9989-43f9-86ee-85bb5a76873c",
   "metadata": {},
   "outputs": [],
   "source": [
    "class Network:\n",
    "    \n",
    "    \"\"\"\n",
    "    TODO: Need to account for the bias in the first layer. as in \n",
    "    i need to remove it\n",
    "    \"\"\"\n",
    "    \n",
    "    def __init__(self, layers: Sequence[FullyConnected])->None:\n",
    "        self.layers = layers\n",
    "        self.activations = []\n",
    "        self.zs = []\n",
    "        \n",
    "    def forward_pass(self, inputs: Tensor) -> Tensor:\n",
    "        self.activations = []\n",
    "        self.activations.append(inputs)\n",
    "        self.zs = []\n",
    "        for layer in self.layers:\n",
    "            inputs = layer.activate(inputs)\n",
    "            self.zs.append(layer.z)\n",
    "            self.activations.append(inputs)\n",
    "        return inputs\n",
    "\n",
    "        \n",
    "    def backprop(self, inputs: Tensor, outputs: Tensor) -> None:\n",
    "\n",
    "        self.delta = (self.activations[-1] - outputs) * self.sigmoid_deriv(self.zs[-1])\n",
    "        self.layers[-1].delta = self.delta\n",
    "        self.layers[-1].grad_b = self.delta\n",
    "        self.layers[-1].grad_w = self.delta @ self.activations[-2].T\n",
    "        \n",
    "        self.layers[-1].grad_bs.append(self.layers[-1].grad_b)\n",
    "        self.layers[-1].grad_ws.append(self.layers[-1].grad_w)\n",
    "\n",
    "        for l in range(2, len(self.layers)+1):\n",
    "\n",
    "            self.delta = (self.layers[-l+1].weights.T @ self.delta) * self.sigmoid_deriv(self.zs[-l])\n",
    "            \n",
    "            self.layers[-l].grad_b = self.delta\n",
    "            self.layers[-l].grad_bs.append(self.layers[-l].grad_b)\n",
    "            \n",
    "            self.layers[-l].grad_w = self.delta @ self.activations[-l-1].T\n",
    "            self.layers[-l].grad_ws.append(self.layers[-l].grad_w)\n",
    "                                                                                      \n",
    "                                                                                \n",
    "            \n",
    "    def sigmoid(self, z: Tensor) -> Tensor:\n",
    "        return 1/(1 + (np.exp(-z)))\n",
    "    \n",
    "    def sigmoid_deriv(self, z: Tensor) -> Tensor:\n",
    "        return self.sigmoid(z) * (1 - self.sigmoid(z))\n",
    "    \n",
    "    def loss(self, predicted: Tensor, actual: Tensor)-> float:\n",
    "        \n",
    "        pred_idx = np.argmax(predicted)\n",
    "        actual_idx = np.argmax(actual)\n",
    "        \n",
    "        pred_arr = np.zeros(predicted.shape)\n",
    "        pred_arr[pred_idx] = 1\n",
    "        \n",
    "        actual_arr = np.zeros(predicted.shape)\n",
    "        actual_arr[actual_idx] = 1\n",
    "        \n",
    "        return np.sum((actual_arr - pred_arr) ** 2)\n",
    "    \n",
    "    def accuracy(self, predicted: Tensor, actual: Tensor)-> float:\n",
    "        \n",
    "        pred_idx = np.argmax(predicted)\n",
    "        actual_idx = np.argmax(actual)\n",
    "        \n",
    "        return 1 if pred_idx == actual_idx else 0\n",
    "        \n",
    "        "
   ]
  },
  {
   "cell_type": "code",
   "execution_count": 27,
   "id": "a56cb00b-23f5-44db-916b-a1826d05a782",
   "metadata": {},
   "outputs": [],
   "source": [
    "class Optimizer:\n",
    "    \n",
    "    def __init__(self) -> None:\n",
    "        pass\n",
    "    \n",
    "    def update(self) ->None:\n",
    "        raise NotImplementedError\n",
    "    \n",
    "\n",
    "class SGD(Optimizer):\n",
    "    \n",
    "    def __init__(self, batch_size: int, learning_rate: float, network: Network) -> None:\n",
    "        self.eta = learning_rate\n",
    "        self.network = network\n",
    "        self.batch_size = batch_size\n",
    "        \n",
    "    def update(self) -> Tensor:\n",
    "        \"\"\"\n",
    "        1. Pass inputs intto the network\n",
    "        2. For all the inputs passed, add up the weight and bias grads for each layer in the network\n",
    "        3. adjust the weight and bias by the above\n",
    "        \n",
    "        w_l = w_l - eta*(1/m)*sum(grad_w)\n",
    "        b_l = b_l - eta*(1/m)*sum(grad_b)\n",
    "        \"\"\"\n",
    "        \n",
    "        for layer in self.network.layers:\n",
    "            # clear the list of each layers' gradients after each update\n",
    "            layer.weights = layer.weights - (self.eta * (1/len(layer.grad_ws)) * np.sum(layer.grad_ws,axis=0))\n",
    "            layer.grad_ws = []\n",
    "            \n",
    "            layer.biases = layer.biases - self.eta * (1/len(layer.grad_bs)) * np.sum(layer.grad_bs,axis=0)\n",
    "            layer.grad_bs = []\n",
    "            "
   ]
  },
  {
   "cell_type": "code",
   "execution_count": 30,
   "id": "e2d143f5-28ad-4909-86a8-a0529b53966a",
   "metadata": {},
   "outputs": [],
   "source": [
    "class DataLoader:\n",
    "    \n",
    "    def __init__(self, batch_size: int=1) -> None:\n",
    "        self.batch_size = batch_size\n",
    "    \n",
    "    def get_batches(self, inputs: Tensor, outputs: Tensor) -> Iterator[Tuple]:\n",
    "        idx = np.arange(0, len(inputs), self.batch_size)\n",
    "        np.random.shuffle(idx)\n",
    "\n",
    "        shuffled_batches = [(inputs[k:k+self.batch_size], outputs[k:k+self.batch_size]) for k in idx]\n",
    "        return shuffled_batches\n",
    "    "
   ]
  },
  {
   "cell_type": "code",
   "execution_count": 46,
   "id": "56e3ef6a-ad67-4ddd-88a7-f3792942e187",
   "metadata": {},
   "outputs": [],
   "source": [
    "class Trainer:\n",
    "    \n",
    "    def __init__(self) -> None:\n",
    "        pass\n",
    "    \n",
    "    def train(self,\n",
    "              network: Network,\n",
    "              inputs: Tensor,\n",
    "              outputs: Tensor,\n",
    "              optimizer: Optimizer,\n",
    "              batch_size,\n",
    "              num_epochs,\n",
    "             ) -> None:\n",
    "        \n",
    "        # Start here for training:\n",
    "        for i in range(num_epochs):\n",
    "            \n",
    "            loss_epoch = 0.0\n",
    "            acc_epoch = 0.0\n",
    "            \n",
    "            for batch in DataLoader(batch_size).get_batches(inputs, outputs):\n",
    "                for inp, out in zip(batch[0], batch[1]):\n",
    "                    network.forward_pass(inp)\n",
    "                    network.backprop(inp, out)\n",
    "                    acc_epoch += network.accuracy(network.forward_pass(inp), out)\n",
    "                    loss_epoch += network.loss(network.forward_pass(inp), out)\n",
    "                optimizer.update()\n",
    "                    \n",
    "            # print(\"epoch : {} | loss : {}\".format(i, loss_epoch))\n",
    "            print(\"epoch : {} | acc : {}\".format(i, 100*acc_epoch/len(inputs)))\n",
    "            \n",
    "        \n"
   ]
  },
  {
   "cell_type": "code",
   "execution_count": 38,
   "id": "80874b06-4cc6-499e-910c-310b26691646",
   "metadata": {},
   "outputs": [],
   "source": [
    "import pickle"
   ]
  },
  {
   "cell_type": "code",
   "execution_count": 2,
   "id": "6887f46e-a84d-4f5a-9139-a3d4c22b5d9f",
   "metadata": {},
   "outputs": [],
   "source": [
    "training_data, validation_data, test_data = mnist_loader.load_data_wrapper()"
   ]
  },
  {
   "cell_type": "code",
   "execution_count": 35,
   "id": "bd6ae468-60e7-4c0a-8a6e-605b91e79839",
   "metadata": {},
   "outputs": [],
   "source": [
    "trd= list(training_data)"
   ]
  },
  {
   "cell_type": "code",
   "execution_count": 36,
   "id": "f1b2d68b-248e-4a00-b715-80dbc740e547",
   "metadata": {},
   "outputs": [],
   "source": [
    "trd_inp = []\n",
    "trd_out = []"
   ]
  },
  {
   "cell_type": "code",
   "execution_count": 37,
   "id": "54e40253-c4e5-49d5-8dd4-7dfc15e41d12",
   "metadata": {},
   "outputs": [],
   "source": [
    "for tpl in trd:\n",
    "    trd_inp.append(tpl[0])\n",
    "    trd_out.append(tpl[1])"
   ]
  },
  {
   "cell_type": "code",
   "execution_count": 38,
   "id": "41c610bf-a236-40bc-ba6f-1070a011456f",
   "metadata": {},
   "outputs": [],
   "source": [
    "mnist_inputs = np.stack(trd_inp)"
   ]
  },
  {
   "cell_type": "code",
   "execution_count": 39,
   "id": "e976b4c7-8191-47d6-a21d-309d870c48e2",
   "metadata": {},
   "outputs": [],
   "source": [
    "mnist_outputs = np.stack(trd_out)"
   ]
  },
  {
   "cell_type": "code",
   "execution_count": 40,
   "id": "586ec6ce-905e-42b5-861a-d12ee123acdc",
   "metadata": {},
   "outputs": [
    {
     "data": {
      "text/plain": [
       "(50000, 784, 1)"
      ]
     },
     "execution_count": 40,
     "metadata": {},
     "output_type": "execute_result"
    }
   ],
   "source": [
    "mnist_inputs.shape"
   ]
  },
  {
   "cell_type": "code",
   "execution_count": 41,
   "id": "9ba09dcb-2aef-454c-ad99-95454a8650fb",
   "metadata": {},
   "outputs": [
    {
     "data": {
      "text/plain": [
       "(50000, 10, 1)"
      ]
     },
     "execution_count": 41,
     "metadata": {},
     "output_type": "execute_result"
    }
   ],
   "source": [
    "mnist_outputs.shape"
   ]
  },
  {
   "cell_type": "code",
   "execution_count": null,
   "id": "d88f3ed3-09c4-4321-8873-ab707fb318fa",
   "metadata": {},
   "outputs": [],
   "source": []
  },
  {
   "cell_type": "code",
   "execution_count": null,
   "id": "f2377d1c-0833-4fc3-923c-8ff580fda163",
   "metadata": {},
   "outputs": [],
   "source": []
  },
  {
   "cell_type": "code",
   "execution_count": 32,
   "id": "d9f26a95-f0dd-40f5-b307-fbec57e71114",
   "metadata": {},
   "outputs": [],
   "source": [
    "trd, vd, tsd = mnist_loader.load_data()"
   ]
  },
  {
   "cell_type": "code",
   "execution_count": null,
   "id": "8d7fb9ed-c67a-4b31-a81d-a4d80c025a77",
   "metadata": {},
   "outputs": [],
   "source": [
    "# this does the trick!"
   ]
  },
  {
   "cell_type": "code",
   "execution_count": 33,
   "id": "0c74e336-b29d-4091-baab-b955634aac23",
   "metadata": {},
   "outputs": [],
   "source": [
    "def label_to_vector(label):\n",
    "    \"\"\"We will conver the individual number classes, \n",
    "    like 5,4,3,7,8... in the downbloaded mnsit\n",
    "    database into a (10,1) vector X with X[index] = 1 \n",
    "    where index is the number itself\"\"\"\n",
    "    vec = np.zeros((10,1))\n",
    "    vec[label] = 1\n",
    "    return vec"
   ]
  },
  {
   "cell_type": "code",
   "execution_count": 34,
   "id": "dbc2e778-0347-44aa-b404-ba64c98b9203",
   "metadata": {
    "tags": []
   },
   "outputs": [],
   "source": [
    "train_input = np.array([np.reshape(tr_i, (784, 1)) for tr_i in trd[0]])\n",
    "train_output = np.array([label_to_vector(tr_o) for tr_o in trd[1]])\n",
    "\n",
    "test_input = np.array([np.reshape(ts_i, (784, 1)) for ts_i in tsd[0]])\n",
    "test_output = np.array([label_to_vector(ts_o) for ts_o in tsd[1]])\n",
    "\n",
    "vd_input = np.array([np.reshape(vd_i, (784, 1)) for vd_i in vd[0]])\n",
    "vd_output = np.array([label_to_vector(vd_o) for vd_o in vd[1]])"
   ]
  },
  {
   "cell_type": "code",
   "execution_count": 35,
   "id": "a976266f-d3cc-495e-9cb6-091710257036",
   "metadata": {},
   "outputs": [
    {
     "data": {
      "text/plain": [
       "(10000, 784, 1)"
      ]
     },
     "execution_count": 35,
     "metadata": {},
     "output_type": "execute_result"
    }
   ],
   "source": [
    "test_input.shape"
   ]
  },
  {
   "cell_type": "code",
   "execution_count": null,
   "id": "c632aba2-d256-42a1-bc95-c2fbe5c3f24d",
   "metadata": {},
   "outputs": [],
   "source": []
  },
  {
   "cell_type": "code",
   "execution_count": 39,
   "id": "e63bfab5-be25-4ea6-a35b-d6d94a973b9d",
   "metadata": {},
   "outputs": [],
   "source": [
    "with open('mnist.pkl', 'rb') as f:\n",
    "    trd, vd, tsd = pickle.load(f, encoding=\"latin1\")\n",
    "\n",
    "train_input = np.array([np.reshape(tr_i, (784, 1)) for tr_i in trd[0]])\n",
    "train_output = np.array([label_to_vector(tr_o) for tr_o in trd[1]])\n",
    "\n",
    "test_input = np.array([np.reshape(ts_i, (784, 1)) for ts_i in tsd[0]])\n",
    "test_output = np.array([label_to_vector(ts_o) for ts_o in tsd[1]])\n",
    "\n",
    "vd_input = np.array([np.reshape(vd_i, (784, 1)) for vd_i in vd[0]])\n",
    "vd_output = np.array([label_to_vector(vd_o) for vd_o in vd[1]])\n",
    "\n",
    "def label_to_vector(label):\n",
    "    \"\"\"We will conver the individual number classes, \n",
    "    like 5,4,3,7,8... in the downbloaded mnsit\n",
    "    database into a (10,1) vector X with X[index] = 1 \n",
    "    where index is the number itself\"\"\"\n",
    "    vec = np.zeros((10,1))\n",
    "    vec[label] = 1\n",
    "    return vec"
   ]
  },
  {
   "cell_type": "code",
   "execution_count": 43,
   "id": "326b1372-de4d-4748-9067-5b3d53c76355",
   "metadata": {},
   "outputs": [
    {
     "data": {
      "text/plain": [
       "(10000, 10, 1)"
      ]
     },
     "execution_count": 43,
     "metadata": {},
     "output_type": "execute_result"
    }
   ],
   "source": [
    "vd_output.shape"
   ]
  },
  {
   "cell_type": "code",
   "execution_count": null,
   "id": "9fbaad6c-b0d9-4537-bc35-ddb435c3ca79",
   "metadata": {
    "tags": []
   },
   "outputs": [],
   "source": [
    "# Define your layers\n",
    "fc1 = FullyConnected(784,30)\n",
    "fc2 = FullyConnected(30,10)\n",
    "# fc3 = FullyConnected(50,10)\n",
    "\n",
    "\n",
    "# Create your network\n",
    "nn = Network([fc1, fc2])\n",
    "\n",
    "\n",
    "# Ready the optimizer:\n",
    "sgd = SGD(batch_size=30,learning_rate=3,network=nn)\n",
    "\n",
    "\n",
    "trainer = Trainer()\n",
    "trainer.train(network=nn,\n",
    "              inputs=mnist_inputs,\n",
    "              outputs=mnist_outputs,\n",
    "              optimizer=sgd,\n",
    "              batch_size=30,\n",
    "              num_epochs=30\n",
    "             )\n"
   ]
  }
 ],
 "metadata": {
  "kernelspec": {
   "display_name": "Python 3",
   "language": "python",
   "name": "python3"
  },
  "language_info": {
   "codemirror_mode": {
    "name": "ipython",
    "version": 3
   },
   "file_extension": ".py",
   "mimetype": "text/x-python",
   "name": "python",
   "nbconvert_exporter": "python",
   "pygments_lexer": "ipython3",
   "version": "3.6.9"
  }
 },
 "nbformat": 4,
 "nbformat_minor": 5
}
